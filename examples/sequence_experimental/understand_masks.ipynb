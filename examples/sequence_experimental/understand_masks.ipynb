{
 "cells": [
  {
   "cell_type": "code",
   "execution_count": 1,
   "outputs": [],
   "source": [
    "import numpy as np\n",
    "import tensorflow as tf\n",
    "from tensorflow import keras\n",
    "from tensorflow.keras import layers"
   ],
   "metadata": {
    "collapsed": false,
    "pycharm": {
     "name": "#%%\n"
    }
   }
  },
  {
   "cell_type": "code",
   "execution_count": 24,
   "outputs": [],
   "source": [
    "class MyActivation(keras.layers.Layer):\n",
    "    def __init__(self, supports_masking=True, **kwargs):\n",
    "        super(MyActivation, self).__init__(**kwargs)\n",
    "        # Signal that the layer is safe for mask propagation\n",
    "        self.supports_masking = supports_masking\n",
    "\n",
    "    def call(self, inputs, mask=None):\n",
    "        tf.print('call mask', mask)\n",
    "        return tf.nn.relu(inputs)\n",
    "\n",
    "    def compute_mask(self, inputs, mask=None):\n",
    "        return tf.equal(inputs, 0)\n",
    "\n",
    "class MyActivation2(keras.layers.Layer):\n",
    "    def __init__(self, supports_masking=True, **kwargs):\n",
    "        super(MyActivation2, self).__init__(**kwargs)\n",
    "        # Signal that the layer is safe for mask propagation\n",
    "        self.supports_masking = supports_masking\n",
    "        self.rr = MyActivation(supports_masking=True)\n",
    "\n",
    "    def call(self, inputs, mask=None):\n",
    "        tf.print('call mask', mask)\n",
    "        inputs = tf.nn.relu(inputs)\n",
    "        # inputs = self.rr(inputs)\n",
    "        # tf.print(inputs._keras_mask)\n",
    "        return inputs\n",
    "\n",
    "    def compute_mask(self, inputs, mask=None):\n",
    "        return tf.not_equal(inputs, 1)"
   ],
   "metadata": {
    "collapsed": false,
    "pycharm": {
     "name": "#%%\n"
    }
   }
  },
  {
   "cell_type": "code",
   "execution_count": 25,
   "outputs": [
    {
     "data": {
      "text/plain": "<tf.Tensor: shape=(2, 5), dtype=bool, numpy=\narray([[False,  True,  True,  True,  True],\n       [ True,  True,  True,  True, False]])>"
     },
     "execution_count": 25,
     "metadata": {},
     "output_type": "execute_result"
    }
   ],
   "source": [
    "inputs = np.random.randint(0, 10, size=(2, 5))\n",
    "x = layers.Embedding(input_dim=5000, output_dim=3, mask_zero=True)(inputs)\n",
    "x._keras_mask"
   ],
   "metadata": {
    "collapsed": false,
    "pycharm": {
     "name": "#%%\n"
    }
   }
  },
  {
   "cell_type": "code",
   "execution_count": 26,
   "outputs": [
    {
     "data": {
      "text/plain": "array([[0, 6, 6, 4, 9],\n       [1, 9, 6, 3, 0]])"
     },
     "execution_count": 26,
     "metadata": {},
     "output_type": "execute_result"
    }
   ],
   "source": [
    "inputs"
   ],
   "metadata": {
    "collapsed": false,
    "pycharm": {
     "name": "#%%\n"
    }
   }
  },
  {
   "cell_type": "code",
   "execution_count": 27,
   "outputs": [
    {
     "data": {
      "text/plain": "<tf.Tensor: shape=(2, 5, 3), dtype=float32, numpy=\narray([[[-0.0097435 ,  0.04821042, -0.04418812],\n        [-0.02169017, -0.03551453, -0.02851381],\n        [-0.02169017, -0.03551453, -0.02851381],\n        [-0.02520925,  0.02708708, -0.03410064],\n        [ 0.04544548, -0.04514576, -0.04039621]],\n\n       [[-0.00302394, -0.04879255, -0.00579654],\n        [ 0.04544548, -0.04514576, -0.04039621],\n        [-0.02169017, -0.03551453, -0.02851381],\n        [ 0.00075462,  0.04632522, -0.00729251],\n        [-0.0097435 ,  0.04821042, -0.04418812]]], dtype=float32)>"
     },
     "execution_count": 27,
     "metadata": {},
     "output_type": "execute_result"
    }
   ],
   "source": [
    "x"
   ],
   "metadata": {
    "collapsed": false,
    "pycharm": {
     "name": "#%%\n"
    }
   }
  },
  {
   "cell_type": "markdown",
   "source": [
    "when a layer is not supporting masking, even if\n",
    "the input tensor (x) has a mask, it won't be transferred.\n",
    "You can see the mask in the layer's call method is None.\n",
    "Even if the layer has a compute_mask method it won't take effect."
   ],
   "metadata": {
    "collapsed": false,
    "pycharm": {
     "name": "#%% md\n",
     "is_executing": true
    }
   },
   "outputs": [
    {
     "ename": "SyntaxError",
     "evalue": "invalid syntax (<ipython-input-7-cb94f5e5d520>, line 1)",
     "output_type": "error",
     "traceback": [
      "\u001B[0;36m  File \u001B[0;32m\"<ipython-input-7-cb94f5e5d520>\"\u001B[0;36m, line \u001B[0;32m1\u001B[0m\n\u001B[0;31m    when a layer is not supporting maski\u001B[0m\n\u001B[0m         ^\u001B[0m\n\u001B[0;31mSyntaxError\u001B[0m\u001B[0;31m:\u001B[0m invalid syntax\n"
     ]
    }
   ]
  },
  {
   "cell_type": "code",
   "execution_count": 28,
   "outputs": [
    {
     "name": "stdout",
     "output_type": "stream",
     "text": [
      "call mask [[0 1 1 1 1]\n",
      " [1 1 1 1 0]]\r\n"
     ]
    },
    {
     "ename": "AttributeError",
     "evalue": "'tensorflow.python.framework.ops.EagerTensor' object has no attribute '_keras_mask'",
     "output_type": "error",
     "traceback": [
      "\u001B[0;31m---------------------------------------------------------------------------\u001B[0m",
      "\u001B[0;31mAttributeError\u001B[0m                            Traceback (most recent call last)",
      "\u001B[0;32m<ipython-input-28-32c080fb99a7>\u001B[0m in \u001B[0;36m<module>\u001B[0;34m()\u001B[0m\n\u001B[1;32m      1\u001B[0m \u001B[1;33m\u001B[0m\u001B[0m\n\u001B[1;32m      2\u001B[0m \u001B[0mx\u001B[0m \u001B[1;33m=\u001B[0m \u001B[0mMyActivation2\u001B[0m\u001B[1;33m(\u001B[0m\u001B[0msupports_masking\u001B[0m\u001B[1;33m=\u001B[0m\u001B[1;32mFalse\u001B[0m\u001B[1;33m)\u001B[0m\u001B[1;33m(\u001B[0m\u001B[0mx\u001B[0m\u001B[1;33m)\u001B[0m  \u001B[1;31m# Will pass the mask along\u001B[0m\u001B[1;33m\u001B[0m\u001B[1;33m\u001B[0m\u001B[0m\n\u001B[0;32m----> 3\u001B[0;31m \u001B[0mprint\u001B[0m\u001B[1;33m(\u001B[0m\u001B[1;34m\"Mask not found in output:\"\u001B[0m\u001B[1;33m,\u001B[0m \u001B[0mx\u001B[0m\u001B[1;33m.\u001B[0m\u001B[0m_keras_mask\u001B[0m\u001B[1;33m)\u001B[0m\u001B[1;33m\u001B[0m\u001B[1;33m\u001B[0m\u001B[0m\n\u001B[0m\u001B[1;32m      4\u001B[0m \u001B[1;33m\u001B[0m\u001B[0m\n",
      "\u001B[0;31mAttributeError\u001B[0m: 'tensorflow.python.framework.ops.EagerTensor' object has no attribute '_keras_mask'"
     ]
    }
   ],
   "source": [
    "x = MyActivation2(supports_masking=False)(x)  # Will pass the mask along\n",
    "print(\"Mask not found in output:\", x._keras_mask)"
   ],
   "metadata": {
    "collapsed": false,
    "pycharm": {
     "name": "#%%\n"
    }
   }
  },
  {
   "cell_type": "code",
   "execution_count": 29,
   "outputs": [
    {
     "data": {
      "text/plain": "<tf.Tensor: shape=(2, 5, 3), dtype=float32, numpy=\narray([[[0.        , 0.04821042, 0.        ],\n        [0.        , 0.        , 0.        ],\n        [0.        , 0.        , 0.        ],\n        [0.        , 0.02708708, 0.        ],\n        [0.04544548, 0.        , 0.        ]],\n\n       [[0.        , 0.        , 0.        ],\n        [0.04544548, 0.        , 0.        ],\n        [0.        , 0.        , 0.        ],\n        [0.00075462, 0.04632522, 0.        ],\n        [0.        , 0.04821042, 0.        ]]], dtype=float32)>"
     },
     "execution_count": 29,
     "metadata": {},
     "output_type": "execute_result"
    }
   ],
   "source": [
    "x"
   ],
   "metadata": {
    "collapsed": false,
    "pycharm": {
     "name": "#%%\n"
    }
   }
  },
  {
   "cell_type": "markdown",
   "source": [
    "you can see input x has no mask, so the mask in layer's call method is None.\n",
    "But because the layer is supporting masking, so the compute_mask method will\n",
    "take effect to produce a mask for the output tensor.\n"
   ],
   "metadata": {
    "collapsed": false,
    "pycharm": {
     "name": "#%% md\n",
     "is_executing": true
    }
   },
   "outputs": [
    {
     "ename": "SyntaxError",
     "evalue": "invalid syntax (<ipython-input-16-de9f018fc01c>, line 1)",
     "output_type": "error",
     "traceback": [
      "\u001B[0;36m  File \u001B[0;32m\"<ipython-input-16-de9f018fc01c>\"\u001B[0;36m, line \u001B[0;32m1\u001B[0m\n\u001B[0;31m    you can\u001B[0m\n\u001B[0m          ^\u001B[0m\n\u001B[0;31mSyntaxError\u001B[0m\u001B[0;31m:\u001B[0m invalid syntax\n"
     ]
    }
   ]
  },
  {
   "cell_type": "code",
   "execution_count": 30,
   "outputs": [
    {
     "name": "stdout",
     "output_type": "stream",
     "text": [
      "call mask None\r\n",
      "Mask found: tf.Tensor(\n",
      "[[[ True False  True]\n",
      "  [ True  True  True]\n",
      "  [ True  True  True]\n",
      "  [ True False  True]\n",
      "  [False  True  True]]\n",
      "\n",
      " [[ True  True  True]\n",
      "  [False  True  True]\n",
      "  [ True  True  True]\n",
      "  [False False  True]\n",
      "  [ True False  True]]], shape=(2, 5, 3), dtype=bool)\n"
     ]
    }
   ],
   "source": [
    "x = MyActivation(supports_masking=True)(x)  #\n",
    "print(\"Mask found:\", x._keras_mask)"
   ],
   "metadata": {
    "collapsed": false,
    "pycharm": {
     "name": "#%%\n"
    }
   }
  },
  {
   "cell_type": "code",
   "execution_count": 31,
   "outputs": [
    {
     "data": {
      "text/plain": "<tf.Tensor: shape=(2, 5, 3), dtype=float32, numpy=\narray([[[0.        , 0.04821042, 0.        ],\n        [0.        , 0.        , 0.        ],\n        [0.        , 0.        , 0.        ],\n        [0.        , 0.02708708, 0.        ],\n        [0.04544548, 0.        , 0.        ]],\n\n       [[0.        , 0.        , 0.        ],\n        [0.04544548, 0.        , 0.        ],\n        [0.        , 0.        , 0.        ],\n        [0.00075462, 0.04632522, 0.        ],\n        [0.        , 0.04821042, 0.        ]]], dtype=float32)>"
     },
     "execution_count": 31,
     "metadata": {},
     "output_type": "execute_result"
    }
   ],
   "source": [
    "x"
   ],
   "metadata": {
    "collapsed": false,
    "pycharm": {
     "name": "#%%\n"
    }
   }
  },
  {
   "cell_type": "code",
   "execution_count": 36,
   "outputs": [],
   "source": [
    "adapt_data = np.array([[0., 7., 4.],\n",
    "                       [2., 9., 6.],\n",
    "                       [0., 7., 4.],\n",
    "                       [2., 9., 6.]], dtype='float32')\n",
    "input_data = np.array([[0., 7., 4.]], dtype='float32')\n",
    "layer = tf.keras.layers.experimental.preprocessing.Normalization(axis=-1)\n",
    "layer.adapt(adapt_data)"
   ],
   "metadata": {
    "collapsed": false,
    "pycharm": {
     "name": "#%%\n"
    }
   }
  },
  {
   "cell_type": "code",
   "execution_count": 45,
   "outputs": [
    {
     "data": {
      "text/plain": "array([1., 8., 5.], dtype=float32)"
     },
     "execution_count": 45,
     "metadata": {},
     "output_type": "execute_result"
    }
   ],
   "source": [
    "np.mean(adapt_data, axis=0)"
   ],
   "metadata": {
    "collapsed": false,
    "pycharm": {
     "name": "#%%\n"
    }
   }
  },
  {
   "cell_type": "code",
   "execution_count": 42,
   "outputs": [
    {
     "data": {
      "text/plain": "<tf.Variable 'mean:0' shape=(3,) dtype=float32, numpy=array([1., 8., 5.], dtype=float32)>"
     },
     "execution_count": 42,
     "metadata": {},
     "output_type": "execute_result"
    }
   ],
   "source": [
    "layer.mean"
   ],
   "metadata": {
    "collapsed": false,
    "pycharm": {
     "name": "#%%\n"
    }
   }
  },
  {
   "cell_type": "code",
   "execution_count": 40,
   "outputs": [
    {
     "data": {
      "text/plain": "<tf.Variable 'variance:0' shape=(3,) dtype=float32, numpy=array([1., 1., 1.], dtype=float32)>"
     },
     "execution_count": 40,
     "metadata": {},
     "output_type": "execute_result"
    }
   ],
   "source": [
    "layer.variance"
   ],
   "metadata": {
    "collapsed": false,
    "pycharm": {
     "name": "#%%\n"
    }
   }
  },
  {
   "cell_type": "code",
   "execution_count": 12,
   "outputs": [
    {
     "data": {
      "text/plain": "<tf.Tensor: shape=(1, 3), dtype=float32, numpy=array([[-1., -1., -1.]], dtype=float32)>"
     },
     "execution_count": 12,
     "metadata": {},
     "output_type": "execute_result"
    }
   ],
   "source": [
    "layer(input_data)"
   ],
   "metadata": {
    "collapsed": false,
    "pycharm": {
     "name": "#%%\n"
    }
   }
  },
  {
   "cell_type": "code",
   "execution_count": null,
   "outputs": [],
   "source": [],
   "metadata": {
    "collapsed": false,
    "pycharm": {
     "name": "#%%\n"
    }
   }
  }
 ],
 "metadata": {
  "kernelspec": {
   "display_name": "Python 3",
   "language": "python",
   "name": "python3"
  },
  "language_info": {
   "codemirror_mode": {
    "name": "ipython",
    "version": 2
   },
   "file_extension": ".py",
   "mimetype": "text/x-python",
   "name": "python",
   "nbconvert_exporter": "python",
   "pygments_lexer": "ipython2",
   "version": "2.7.6"
  }
 },
 "nbformat": 4,
 "nbformat_minor": 0
}