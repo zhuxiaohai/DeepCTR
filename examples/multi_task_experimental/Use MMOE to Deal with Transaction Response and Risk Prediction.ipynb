{
 "cells": [
  {
   "cell_type": "markdown",
   "metadata": {
    "collapsed": true,
    "pycharm": {
     "name": "#%% md\n"
    }
   },
   "source": [
    "Before reading this notebook, you may spend some time reading hello_keras."
   ]
  },
  {
   "cell_type": "code",
   "execution_count": 28,
   "outputs": [],
   "source": [
    "import platform\n",
    "import os\n",
    "import re\n",
    "import pandas as pd\n",
    "import numpy as np\n",
    "import matplotlib.pyplot as plt\n",
    "\n",
    "from sklearn.metrics import roc_curve, roc_auc_score\n",
    "from sklearn.preprocessing import LabelEncoder, QuantileTransformer\n",
    "\n",
    "from tensorflow.python.keras.callbacks import TensorBoard\n",
    "from tensorflow.python.keras.metrics import AUC, Mean\n",
    "from tensorflow.python.keras.models import load_model\n",
    "from tensorflow import keras\n",
    "import tensorflow as tf\n",
    "\n",
    "from deepctr.layers import custom_objects\n",
    "from deepctr.layers.utils import NoMask\n",
    "from deepctr.feature_column import SparseFeat, get_feature_names, VarLenSparseFeat\n",
    "from deepctr.models.multitask_modified.mmoe import MMOELayer, MMOE_BIAS\n",
    "from deepctr.callbacks import EarlyStopping, Recorder, ModifiedExponentialDecay\n",
    "from deepctr.models.multitask_modified.multitaskbase import MultiTaskModelBase\n",
    "from deepctr.metrics import calc_lift\n",
    "\n",
    "custom_objects['NoMask'] = NoMask\n",
    "custom_objects['MMOELayer'] = MMOELayer\n",
    "custom_objects['MultiTaskModelBase'] = MultiTaskModelBase\n",
    "custom_objects['Mean'] = Mean\n",
    "custom_objects['AUC'] = AUC\n",
    "custom_objects['ModifiedExponentialDecay'] = ModifiedExponentialDecay"
   ],
   "metadata": {
    "collapsed": false,
    "pycharm": {
     "name": "#%%\n"
    }
   }
  },
  {
   "cell_type": "code",
   "execution_count": 18,
   "outputs": [],
   "source": [
    "# configure system params\n",
    "project_name = 'preloan_istrans_overdue'\n",
    "run_name = 'uncertainty_bias_fpd4_mask_mob3_k11_mask7'\n",
    "mode = 'train'\n",
    "if platform.system() == 'Windows':\n",
    "    joint_symbol = '\\\\'\n",
    "else:\n",
    "    joint_symbol = '/'\n",
    "checkpoint_dir = joint_symbol.join([project_name, 'ckt', run_name])\n",
    "tensorboard_dir = joint_symbol.join([project_name, 'log_dir', run_name])\n",
    "summary_dir = joint_symbol.join([project_name, 'metrics', run_name])\n",
    "trend_dir = joint_symbol.join([project_name, 'trend', run_name])\n",
    "tasks = {'istrans': 'binary', 'fpd4': 'binary', 'mob3_k11': 'binary'}\n",
    "loss_fns = {'istrans': keras.losses.binary_crossentropy,\n",
    "            'fpd4': keras.losses.binary_crossentropy,\n",
    "            'mob3_k11': keras.losses.binary_crossentropy}\n",
    "# loss_fns = {'istrans': keras.losses.BinaryCrossentropy(),\n",
    "#             'fpd4': keras.losses.BinaryCrossentropy()}\n",
    "metrics_logger = {'istrans': AUC(name='istrans_AUC'),\n",
    "                  'fpd4': AUC(name='fpd4_AUC'),\n",
    "                  'mob3_k11': AUC(name='mob3_k11_AUC')}\n",
    "loss_weights = {'istrans': 1, 'fpd4': 6, 'mob3_k11': 6}\n",
    "bias_features = {'istrans': ['pre_loan_flag']}\n",
    "bias_dropout_dict = {'istrans': 0.1, 'fpd4': 0.1}\n",
    "if run_name.find('uncertainty') >= 0:\n",
    "    uncertainty = True\n",
    "else:\n",
    "    uncertainty = False\n",
    "if run_name.find('gradnorm') >= 0:\n",
    "    gradnorm = True\n",
    "else:\n",
    "    gradnorm = False\n",
    "if run_name.find('bias') >= 0:\n",
    "    add_bias = True\n",
    "else:\n",
    "    add_bias = False\n",
    "batch_size = 256"
   ],
   "metadata": {
    "collapsed": false,
    "pycharm": {
     "name": "#%%\n"
    }
   }
  },
  {
   "cell_type": "code",
   "execution_count": 19,
   "outputs": [],
   "source": [
    "# read data and do some preprocessing\n",
    "data = pd.read_csv('../data/multitask/multitask_demo.csv')\n",
    "col_x = ['td_i_cnt_partner_all_imbank_365d',\n",
    "         'duotou_br_als_m3_id_pdl_allnum',\n",
    "         'marketing_channel_pred_1',\n",
    "         'td_i_length_first_all_consumerfinance_365d',\n",
    "         'duotou_br_als_m12_cell_nbank_allnum',\n",
    "         'tx_m12_id_platnum',\n",
    "         'duotou_br_als_m12_id_caon_allnum',\n",
    "         'duotou_br_alf_apirisk_all_sum',\n",
    "         'model_key_pred_1',\n",
    "         'duotou_bh_rl_creditlimitsum',\n",
    "         'dxm_dt_score',\n",
    "         'credit_score_ronghuixf',\n",
    "         'regist_channel_pred_1',\n",
    "         'cs_mf_score_dt',\n",
    "         'credit_score_sh',\n",
    "         'duotou_br_als_m3_id_nbank_allnum',\n",
    "         'br_frg_list_level',\n",
    "         'td_3m_idcard_lending_cnt',\n",
    "         'duotou_br_alf_apirisk_all_mean',\n",
    "         'cs_hc_phone_score',\n",
    "         'tx_m6_cell_allnum',\n",
    "         'duotou_br_als_m12_id_pdl_allnum',\n",
    "         'dxm_qzf',\n",
    "         'ali_rain_score',\n",
    "         'td_zhixin_score',\n",
    "         'ab_local_cnt',\n",
    "         'ab_mobile_cnt',\n",
    "         'cust_id_area',\n",
    "         'cust_gender',\n",
    "         'immediate_relation_cnt',\n",
    "         'hds_36m_month_max_purchase_money_excp_doub11_12',\n",
    "         'ab_local_ratio',\n",
    "         'hds_36m_purchase_steady',\n",
    "         'cust_work_city',\n",
    "         'relation_contact_cnt',\n",
    "         'td_xyf_dq_score',\n",
    "         'selffill_is_have_creditcard',\n",
    "         'credit_repayment_score_bj_2',\n",
    "         'bj_jc_m36_consume_cnt',\n",
    "         'selffill_degree',\n",
    "         'selffill_marital_status',\n",
    "         'operation_sys',\n",
    "         'hds_mobile_rich',\n",
    "         'ab_prov_cnt',\n",
    "         'hds_36m_total_purchase_cnt',\n",
    "         'idcard_district_grade',\n",
    "         'study_app_cnt',\n",
    "         'hds_recent_consumme_active_rank',\n",
    "         'hds_mobile_reli_rank',\n",
    "         'hds_36m_doub11_12_total_purchase_money',\n",
    "         'idcard_rural_flag']\n",
    "data[col_x] = data[col_x].replace([-99, -1, np.nan, '-1', '-99', '-1111', '-999', -999], np.nan)\n",
    "data['cust_gender'] = data['cust_gender'].map({'男': 0.0, '女': 1.0})\n",
    "data['selffill_is_have_creditcard'] = data['selffill_is_have_creditcard'].map({'N': 0.0, 'Y': 1.0, '0': np.nan})\n",
    "data['operation_sys'] = data['operation_sys'].replace(\n",
    "    {'IOS': 'ios', 'iPhone OS': 'ios', 'iOS': 'ios', 'Android': 'android'})\n",
    "data['operation_sys'] = data['operation_sys'].map({'ios': 0.0, 'android': 1.0})\n",
    "data['hds_mobile_reli_rank'] = data['hds_mobile_reli_rank'].map({'M0': np.nan, 'Ma': 0.0, 'Mb': 1.0})"
   ],
   "metadata": {
    "collapsed": false,
    "pycharm": {
     "name": "#%%\n"
    }
   }
  },
  {
   "cell_type": "markdown",
   "source": [
    "istrans: if the customer applies for a loan\n",
    "\n",
    "fpd4: if the customer defaults in the first month\n",
    "\n",
    "mob3_k11: if the customer defaults in the third month\n",
    "\n",
    "Its's obvious that all the customers have 0/1 labels for istrans but not\n",
    "all the customers have a label for fpd4, not to mention mob3_k11.\n",
    "\n",
    "we use mask/weight=1 to enable the effective labels to back-propagate and mask/weight=0 otherwise.\n",
    "Here \"xxx_weight\" indicates masks used in training & evaluation, and \"xxx_mask\" indicates masks used in inference."
   ],
   "metadata": {
    "collapsed": false,
    "pycharm": {
     "name": "#%% md\n"
    }
   }
  },
  {
   "cell_type": "code",
   "execution_count": 20,
   "outputs": [],
   "source": [
    "data['fpd4_weight'] = 1.0\n",
    "data['fpd4_mask'] = 1.0\n",
    "if run_name.find('fpd4_nomask') >= 0:\n",
    "    pass\n",
    "else:\n",
    "    data.loc[(data['if_t4'] != 1), 'fpd4_weight'] = 0.0\n",
    "data.loc[(data['if_t4'] != 1), 'fpd4_mask'] = 0\n",
    "\n",
    "data['mob3_k11_weight'] = 1.0\n",
    "data['mob3_k11_mask'] = 1.0\n",
    "if run_name.find('mob3_k11_nomask') >= 0:\n",
    "    pass\n",
    "else:\n",
    "    data.loc[(data['if_mob3_t11'] != 1), 'mob3_k11_weight'] = 0.0\n",
    "data.loc[(data['if_mob3_t11'] != 1), 'mob3_k11_mask'] = 0\n",
    "\n",
    "data['istrans_weight'] = 1.0\n",
    "data['istrans_mask'] = 1.0\n",
    "data.loc[data['pre_loan_flag'] != 0, 'istrans_mask'] = 0.0\n",
    "if run_name.find('istrans_mask') >= 0:\n",
    "    data.loc[data['pre_loan_flag'] != 0, 'istrans_weight'] = 0.0\n",
    "\n",
    "# just in case\n",
    "data['fpd4'] = data['fpd4'].fillna(0)\n",
    "data['mob3_k11'] = data['mob3_k11'].fillna(0)\n"
   ],
   "metadata": {
    "collapsed": false,
    "pycharm": {
     "name": "#%%\n"
    }
   }
  },
  {
   "cell_type": "markdown",
   "source": [
    "Financial data makes good use of numerical features, but they are not friendly to DNN.\n",
    "Just to show a fancy technique (and not to say it is needed in real modeling), we map features to uniform distribution in 0-1,\n",
    "and then we cut them to buckets to enable the embedding power."
   ],
   "metadata": {
    "collapsed": false,
    "pycharm": {
     "name": "#%% md\n"
    }
   }
  },
  {
   "cell_type": "code",
   "execution_count": 21,
   "outputs": [],
   "source": [
    "quantile_transformer = QuantileTransformer(random_state=0)\n",
    "quantile_transformer.fit(data[(data['set'] == '1train') | (data['set'] == '2test')][col_x])\n",
    "data[col_x] = quantile_transformer.transform(data[col_x])\n"
   ],
   "metadata": {
    "collapsed": false,
    "pycharm": {
     "name": "#%%\n"
    }
   }
  },
  {
   "cell_type": "markdown",
   "source": [
    "Preloan is an indicator that a customer is aggressive in seeking money,\n",
    "but this information may not be available at model scoring. So, we may model\n",
    "the preloan effect as a logistic regression, and add up the effect to the other part.\n",
    "By doing that, you may take off the preloan logistic logit and only use the other part as online model."
   ],
   "metadata": {
    "collapsed": false,
    "pycharm": {
     "name": "#%% md\n"
    }
   }
  },
  {
   "cell_type": "code",
   "execution_count": 22,
   "outputs": [],
   "source": [
    "# generate input tensors\n",
    "n_bins = 20\n",
    "varlen_feature_columns = [VarLenSparseFeat(SparseFeat(col, vocabulary_size=n_bins+1, embedding_dim=4),\n",
    "                                           maxlen=n_bins+1, combiner='sum', weight_name=col+'_weight')\n",
    "                          for col in col_x]\n",
    "\n",
    "dnn_feature_columns = varlen_feature_columns\n",
    "\n",
    "if add_bias:\n",
    "    bias_feature_columns_dict = {}\n",
    "    bias_feature_columns_list = []\n",
    "    for task_name, columns in bias_features.items():\n",
    "        bias_feature_columns = [SparseFeat(feat, vocabulary_size=data[feat].unique().shape[0], embedding_dim=8)\n",
    "                                for i, feat in enumerate(columns)]\n",
    "        bias_feature_columns_list += bias_feature_columns\n",
    "        bias_feature_columns_dict[task_name] = bias_feature_columns\n",
    "    feature_names = get_feature_names(dnn_feature_columns + bias_feature_columns_list)\n",
    "    bias_feature_names = get_feature_names(bias_feature_columns_list)\n",
    "    for feat in bias_feature_names:\n",
    "        lbe = LabelEncoder()\n",
    "        data[feat] = lbe.fit_transform(data[feat])\n",
    "else:\n",
    "    bias_feature_columns_dict = None\n",
    "    bias_dropout_dict = None\n",
    "    bias_feature_names = []\n",
    "    feature_names = get_feature_names(dnn_feature_columns)"
   ],
   "metadata": {
    "collapsed": false,
    "pycharm": {
     "name": "#%%\n"
    }
   }
  },
  {
   "cell_type": "markdown",
   "source": [
    "1. Because features have been mapped to uniform distribution in 0-1, each feature\n",
    "can be cut to n_bins buckets, and the centroid of each bucket will be: np.arange(1/(2*n_bins), 1+1/(2*n_bins), 1/n_bins).\n",
    "Pre-append a bucket for missing values, so there are totally n_bins + 1 buckets.\n",
    "2. Calculate the distances between a numerical value and the first n_bins centroids,\n",
    "and use the reciprocals as weights. Use the weights to add up embeddings.\n",
    "3. If a value is missing, only the first weight will be set to 1, and the other n_bins weights will be set to 0."
   ],
   "metadata": {
    "collapsed": false,
    "pycharm": {
     "name": "#%% md\n"
    }
   }
  },
  {
   "cell_type": "code",
   "execution_count": 23,
   "outputs": [],
   "source": [
    "# generate input data for model\n",
    "train = data[data['set'] == '1train']\n",
    "test = data[data['set'] == '2test']\n",
    "weight_dict = {}\n",
    "for round_num, ft in enumerate(col_x):\n",
    "    weight_dict[ft] = np.array([list(range(0, n_bins+1))]*train.shape[0])\n",
    "    bin_ary = np.arange(1/(2*n_bins), 1+1/(2*n_bins), 1/n_bins)\n",
    "    cent_hat = np.abs(np.expand_dims(np.expand_dims(train[ft], -1), -1) - np.expand_dims(bin_ary, -1))\n",
    "    weight = 1.0 / (cent_hat + 1e-7)\n",
    "    weight = weight / np.sum(weight, axis=1, keepdims=True)\n",
    "    weight = np.concatenate([np.zeros((weight.shape[0], 1, 1)), weight], axis=1)\n",
    "    nan_indicator = train[ft].isnull().values\n",
    "    weight[nan_indicator, 1:, :] = 0.\n",
    "    weight[nan_indicator, 0, :] = 1.\n",
    "    weight_dict[ft+'_weight'] = weight\n",
    "    assert(weight.shape[1]==21)\n",
    "model_input = weight_dict\n",
    "for ft in bias_feature_names:\n",
    "    model_input[ft] = train[ft].values\n",
    "\n",
    "weight_dict = {}\n",
    "for round_num, ft in enumerate(col_x):\n",
    "    weight_dict[ft] = np.array([list(range(0, n_bins+1))]*test.shape[0])\n",
    "    bin_ary = np.arange(1/(2*n_bins), 1+1/(2*n_bins), 1/n_bins)\n",
    "    cent_hat = np.abs(np.expand_dims(np.expand_dims(test[ft], -1), -1) - np.expand_dims(bin_ary, -1))\n",
    "    weight = 1.0 / (cent_hat + 1e-7)\n",
    "    weight = weight / np.sum(weight, axis=1, keepdims=True)\n",
    "    weight = np.concatenate([np.zeros((weight.shape[0], 1, 1)), weight], axis=1)\n",
    "    nan_indicator = test[ft].isnull().values\n",
    "    weight[nan_indicator, 1:, :] = 0.\n",
    "    weight[nan_indicator, 0, :] = 1.\n",
    "    weight_dict[ft+'_weight'] = weight\n",
    "    assert(weight.shape[1]==21)\n",
    "test_model_input = weight_dict\n",
    "for ft in bias_feature_names:\n",
    "    test_model_input[ft] = test[ft].values\n",
    "\n",
    "weight_dict = {}\n",
    "for round_num, ft in enumerate(col_x):\n",
    "    weight_dict[ft] = np.array([list(range(0, n_bins+1))]*train[ft].iloc[:1].shape[0])\n",
    "    bin_ary = np.arange(1/(2*n_bins), 1+1/(2*n_bins), 1/n_bins)\n",
    "    cent_hat = np.abs(np.expand_dims(np.expand_dims(train[ft].iloc[:1], -1), -1) - np.expand_dims(bin_ary, -1))\n",
    "    weight = 1.0 / (cent_hat + 1e-7)\n",
    "    weight = weight / np.sum(weight, axis=1, keepdims=True)\n",
    "    weight = np.concatenate([np.zeros((weight.shape[0], 1, 1)), weight], axis=1)\n",
    "    nan_indicator = train[ft].iloc[:1].isnull().values\n",
    "    weight[nan_indicator, 1:, :] = 0.\n",
    "    weight[nan_indicator, 0, :] = 1.\n",
    "    weight_dict[ft+'_weight'] = weight\n",
    "    assert(weight.shape[1]==21)\n",
    "model_batch_input = weight_dict\n",
    "for ft in bias_feature_names:\n",
    "    model_batch_input[ft] = train[ft].iloc[:1].values\n",
    "\n",
    "callback_data = (test_model_input,\n",
    "                 {task_name: test[[task_name]] for task_name in tasks.keys()},\n",
    "                 {task_name: test[task_name+'_weight'] for task_name in tasks.keys()})\n",
    "callback_data = list(tf.data.Dataset.from_tensor_slices(callback_data).shuffle(test['istrans'].shape[0]).batch(\n",
    "    batch_size).take(1))[0]\n",
    "\n",
    "# train_dataset = tf.data.Dataset.from_tensor_slices((model_input,\n",
    "#                                                     {'istrans': train['istrans'].values,\n",
    "#                                                      'fpd4': train['fpd4'].values}))\n",
    "# train_dataset = train_dataset.shuffle(buffer_size=1024).batch(batch_size)\n",
    "# val_dataset = tf.data.Dataset.from_tensor_slices((test_model_input,\n",
    "#                                                   {'istrans': test['istrans'].values,\n",
    "#                                                    'fpd4': test['fpd4'].values}))\n",
    "# val_dataset = val_dataset.batch(batch_size)"
   ],
   "metadata": {
    "collapsed": false,
    "pycharm": {
     "name": "#%%\n"
    }
   }
  },
  {
   "cell_type": "markdown",
   "source": [
    "Multitask models suffer from the balance problem among different tasks.\n",
    "You can use uncertainly weighting or gradnorm weighting to tackle the problem.\n",
    "If gradnorm weighting is used, you should specify the last shared layer as grad monitor,\n",
    "and that is the expert layer for mmoe. We provide a callback util, Recorder, for you\n",
    "to monitor the grad.\n",
    "\n",
    "* [Zhao Chen, Vijay Badrinarayanan, Chen-Yu Lee, Andrew Rabinovich.\n",
    "GradNorm: Gradient Normalization for Adaptive Loss Balancing in Deep Multitask Networks.\n",
    "Proceedings of the 35 th International Conference on Machine\n",
    "Learning]()\n",
    "\n",
    "* [Alex Kendall, Yarin Gal, Roberto Cipolla.\n",
    "Multi-Task Learning Using Uncertainty to Weigh Losses for Scene Geometry and Semantics]()"
   ],
   "metadata": {
    "collapsed": false,
    "pycharm": {
     "name": "#%% md\n",
     "is_executing": true
    }
   }
  },
  {
   "cell_type": "code",
   "execution_count": 24,
   "outputs": [
    {
     "name": "stdout",
     "output_type": "stream",
     "text": [
      "uncertainty: loss weights wont be used\n",
      "Creating a new model\n",
      "last epoch 0\n",
      "last lr 0.001\n",
      "Epoch 1/100\n",
      "WARNING:tensorflow:Callbacks method `on_train_batch_end` is slow compared to the batch time (batch time: 0.0170s vs `on_train_batch_end` time: 11.7576s). Check your callbacks.\n",
      "74/74 - 18s - total_loss: 1.3956 - istrans_AUC: 0.5298 - fpd4_AUC: 0.4944 - mob3_k11_AUC: 0.5004 - istrans_loss: 0.6714 - fpd4_loss: 0.3190 - mob3_k11_loss: 0.4030 - istrans_exp_log_var: 1.0364 - fpd4_exp_log_var: 1.0411 - mob3_k11_exp_log_var: 1.0405 - val_total_loss: 0.9228 - val_istrans_AUC: 0.6650 - val_fpd4_AUC: 0.5000 - val_mob3_k11_AUC: 0.5000 - val_istrans_loss: 0.6429 - val_fpd4_loss: 0.0906 - val_mob3_k11_loss: 0.1875 - val_istrans_exp_log_var: 1.0733 - val_fpd4_exp_log_var: 1.0883 - val_mob3_k11_exp_log_var: 1.0873\n",
      "Epoch 2/100\n",
      "74/74 - 2s - total_loss: 0.8563 - istrans_AUC: 0.6591 - fpd4_AUC: 0.5077 - mob3_k11_AUC: 0.5051 - istrans_loss: 0.6297 - fpd4_loss: 0.0600 - mob3_k11_loss: 0.1651 - istrans_exp_log_var: 1.1091 - fpd4_exp_log_var: 1.1320 - mob3_k11_exp_log_var: 1.1308 - val_total_loss: 0.7776 - val_istrans_AUC: 0.6650 - val_fpd4_AUC: 0.5000 - val_mob3_k11_AUC: 0.5000 - val_istrans_loss: 0.6168 - val_fpd4_loss: 0.0276 - val_mob3_k11_loss: 0.1319 - val_istrans_exp_log_var: 1.1447 - val_fpd4_exp_log_var: 1.1752 - val_mob3_k11_exp_log_var: 1.1745\n",
      "Epoch 3/100\n",
      "74/74 - 2s - total_loss: 0.7216 - istrans_AUC: 0.6659 - fpd4_AUC: 0.4965 - mob3_k11_AUC: 0.5082 - istrans_loss: 0.6059 - fpd4_loss: 5.3301e-04 - mob3_k11_loss: 0.1139 - istrans_exp_log_var: 1.1779 - fpd4_exp_log_var: 1.2165 - mob3_k11_exp_log_var: 1.2158 - val_total_loss: 0.6582 - val_istrans_AUC: 0.6650 - val_fpd4_AUC: 0.5000 - val_mob3_k11_AUC: 0.5000 - val_istrans_loss: 0.5957 - val_fpd4_loss: -2.6298e-02 - val_mob3_k11_loss: 0.0876 - val_istrans_exp_log_var: 1.2110 - val_fpd4_exp_log_var: 1.2586 - val_mob3_k11_exp_log_var: 1.2572\n",
      "Epoch 4/100\n",
      "74/74 - 2s - total_loss: 0.6085 - istrans_AUC: 0.6664 - fpd4_AUC: 0.4870 - mob3_k11_AUC: 0.5150 - istrans_loss: 0.5875 - fpd4_loss: -5.1007e-02 - mob3_k11_loss: 0.0709 - istrans_exp_log_var: 1.2413 - fpd4_exp_log_var: 1.2992 - mob3_k11_exp_log_var: 1.2970 - val_total_loss: 0.5481 - val_istrans_AUC: 0.6650 - val_fpd4_AUC: 0.5000 - val_mob3_k11_AUC: 0.5031 - val_istrans_loss: 0.5790 - val_fpd4_loss: -7.7202e-02 - val_mob3_k11_loss: 0.0451 - val_istrans_exp_log_var: 1.2716 - val_fpd4_exp_log_var: 1.3410 - val_mob3_k11_exp_log_var: 1.3378\n",
      "Epoch 5/100\n",
      "74/74 - 2s - total_loss: 0.5055 - istrans_AUC: 0.6657 - fpd4_AUC: 0.5124 - mob3_k11_AUC: 0.5056 - istrans_loss: 0.5734 - fpd4_loss: -1.0009e-01 - mob3_k11_loss: 0.0311 - istrans_exp_log_var: 1.2993 - fpd4_exp_log_var: 1.3814 - mob3_k11_exp_log_var: 1.3768 - val_total_loss: 0.4583 - val_istrans_AUC: 0.6777 - val_fpd4_AUC: 0.5000 - val_mob3_k11_AUC: 0.5000 - val_istrans_loss: 0.5668 - val_fpd4_loss: -1.1945e-01 - val_mob3_k11_loss: 0.0098 - val_istrans_exp_log_var: 1.3267 - val_fpd4_exp_log_var: 1.4229 - val_mob3_k11_exp_log_var: 1.4172\n",
      "Epoch 6/100\n",
      "74/74 - 2s - total_loss: 0.4134 - istrans_AUC: 0.6692 - fpd4_AUC: 0.5036 - mob3_k11_AUC: 0.5082 - istrans_loss: 0.5610 - fpd4_loss: -1.4387e-01 - mob3_k11_loss: -4.9230e-03 - istrans_exp_log_var: 1.3511 - fpd4_exp_log_var: 1.4637 - mob3_k11_exp_log_var: 1.4565 - val_total_loss: 0.3625 - val_istrans_AUC: 0.6650 - val_fpd4_AUC: 0.5000 - val_mob3_k11_AUC: 0.6013 - val_istrans_loss: 0.5566 - val_fpd4_loss: -1.6516e-01 - val_mob3_k11_loss: -3.0025e-02 - val_istrans_exp_log_var: 1.3756 - val_fpd4_exp_log_var: 1.5056 - val_mob3_k11_exp_log_var: 1.4967\n",
      "Epoch 7/100\n",
      "74/74 - 2s - total_loss: 0.3313 - istrans_AUC: 0.6664 - fpd4_AUC: 0.5129 - mob3_k11_AUC: 0.4955 - istrans_loss: 0.5528 - fpd4_loss: -1.8569e-01 - mob3_k11_loss: -3.6898e-02 - istrans_exp_log_var: 1.3971 - fpd4_exp_log_var: 1.5465 - mob3_k11_exp_log_var: 1.5355 - val_total_loss: 0.2800 - val_istrans_AUC: 0.6642 - val_fpd4_AUC: 0.5000 - val_mob3_k11_AUC: 0.5000 - val_istrans_loss: 0.5488 - val_fpd4_loss: -2.0766e-01 - val_mob3_k11_loss: -6.2227e-02 - val_istrans_exp_log_var: 1.4182 - val_fpd4_exp_log_var: 1.5884 - val_mob3_k11_exp_log_var: 1.5756\n",
      "Epoch 8/100\n",
      "74/74 - 2s - total_loss: 0.2597 - istrans_AUC: 0.6667 - fpd4_AUC: 0.5057 - mob3_k11_AUC: 0.4968 - istrans_loss: 0.5464 - fpd4_loss: -2.2264e-01 - mob3_k11_loss: -6.5166e-02 - istrans_exp_log_var: 1.4367 - fpd4_exp_log_var: 1.6293 - mob3_k11_exp_log_var: 1.6141 - val_total_loss: 0.2082 - val_istrans_AUC: 0.6822 - val_fpd4_AUC: 0.5000 - val_mob3_k11_AUC: 0.5702 - val_istrans_loss: 0.5424 - val_fpd4_loss: -2.4464e-01 - val_mob3_k11_loss: -9.0615e-02 - val_istrans_exp_log_var: 1.4551 - val_fpd4_exp_log_var: 1.6713 - val_mob3_k11_exp_log_var: 1.6533\n",
      "Epoch 9/100\n",
      "74/74 - 3s - total_loss: 0.1887 - istrans_AUC: 0.6661 - fpd4_AUC: 0.4987 - mob3_k11_AUC: 0.4976 - istrans_loss: 0.5425 - fpd4_loss: -2.6009e-01 - mob3_k11_loss: -9.4789e-02 - istrans_exp_log_var: 1.4709 - fpd4_exp_log_var: 1.7125 - mob3_k11_exp_log_var: 1.6914 - val_total_loss: 0.1414 - val_istrans_AUC: 0.6824 - val_fpd4_AUC: 0.5046 - val_mob3_k11_AUC: 0.5012 - val_istrans_loss: 0.5387 - val_fpd4_loss: -2.8045e-01 - val_mob3_k11_loss: -1.1788e-01 - val_istrans_exp_log_var: 1.4858 - val_fpd4_exp_log_var: 1.7547 - val_mob3_k11_exp_log_var: 1.7309\n",
      "Epoch 10/100\n",
      "74/74 - 2s - total_loss: 0.1234 - istrans_AUC: 0.6673 - fpd4_AUC: 0.5195 - mob3_k11_AUC: 0.5078 - istrans_loss: 0.5374 - fpd4_loss: -2.9545e-01 - mob3_k11_loss: -1.1961e-01 - istrans_exp_log_var: 1.4985 - fpd4_exp_log_var: 1.7964 - mob3_k11_exp_log_var: 1.7693 - val_total_loss: 0.0811 - val_istrans_AUC: 0.6672 - val_fpd4_AUC: 0.6409 - val_mob3_k11_AUC: 0.5239 - val_istrans_loss: 0.5352 - val_fpd4_loss: -3.1271e-01 - val_mob3_k11_loss: -1.4246e-01 - val_istrans_exp_log_var: 1.5113 - val_fpd4_exp_log_var: 1.8384 - val_mob3_k11_exp_log_var: 1.8084\n",
      "Epoch 11/100\n",
      "74/74 - 2s - total_loss: 0.0652 - istrans_AUC: 0.6668 - fpd4_AUC: 0.5363 - mob3_k11_AUC: 0.5259 - istrans_loss: 0.5353 - fpd4_loss: -3.2772e-01 - mob3_k11_loss: -1.4349e-01 - istrans_exp_log_var: 1.5222 - fpd4_exp_log_var: 1.8794 - mob3_k11_exp_log_var: 1.8461 - val_total_loss: 0.0252 - val_istrans_AUC: 0.6605 - val_fpd4_AUC: 0.5513 - val_mob3_k11_AUC: 0.5210 - val_istrans_loss: 0.5327 - val_fpd4_loss: -3.4448e-01 - val_mob3_k11_loss: -1.6407e-01 - val_istrans_exp_log_var: 1.5320 - val_fpd4_exp_log_var: 1.9219 - val_mob3_k11_exp_log_var: 1.8844\n",
      "Epoch 12/100\n",
      "74/74 - 2s - total_loss: 0.0091 - istrans_AUC: 0.6663 - fpd4_AUC: 0.5235 - mob3_k11_AUC: 0.5168 - istrans_loss: 0.5347 - fpd4_loss: -3.6047e-01 - mob3_k11_loss: -1.6619e-01 - istrans_exp_log_var: 1.5413 - fpd4_exp_log_var: 1.9633 - mob3_k11_exp_log_var: 1.9217 - val_total_loss: -2.8883e-02 - val_istrans_AUC: 0.6645 - val_fpd4_AUC: 0.5051 - val_mob3_k11_AUC: 0.6133 - val_istrans_loss: 0.5308 - val_fpd4_loss: -3.7483e-01 - val_mob3_k11_loss: -1.8587e-01 - val_istrans_exp_log_var: 1.5492 - val_fpd4_exp_log_var: 2.0060 - val_mob3_k11_exp_log_var: 1.9597\n",
      "Epoch 13/100\n",
      "74/74 - 2s - total_loss: -3.6365e-02 - istrans_AUC: 0.6669 - fpd4_AUC: 0.5108 - mob3_k11_AUC: 0.5204 - istrans_loss: 0.5346 - fpd4_loss: -3.8683e-01 - mob3_k11_loss: -1.8526e-01 - istrans_exp_log_var: 1.5555 - fpd4_exp_log_var: 2.0482 - mob3_k11_exp_log_var: 1.9964 - val_total_loss: -7.6565e-02 - val_istrans_AUC: 0.6616 - val_fpd4_AUC: 0.5659 - val_mob3_k11_AUC: 0.5767 - val_istrans_loss: 0.5296 - val_fpd4_loss: -4.0288e-01 - val_mob3_k11_loss: -2.0436e-01 - val_istrans_exp_log_var: 1.5610 - val_fpd4_exp_log_var: 2.0911 - val_mob3_k11_exp_log_var: 2.0345\n",
      "Epoch 14/100\n",
      "74/74 - 2s - total_loss: -8.4673e-02 - istrans_AUC: 0.6624 - fpd4_AUC: 0.5564 - mob3_k11_AUC: 0.5414 - istrans_loss: 0.5331 - fpd4_loss: -4.1447e-01 - mob3_k11_loss: -2.0439e-01 - istrans_exp_log_var: 1.5658 - fpd4_exp_log_var: 2.1329 - mob3_k11_exp_log_var: 2.0719 - val_total_loss: -1.2219e-01 - val_istrans_AUC: 0.6774 - val_fpd4_AUC: 0.5623 - val_mob3_k11_AUC: 0.6357 - val_istrans_loss: 0.5285 - val_fpd4_loss: -4.2939e-01 - val_mob3_k11_loss: -2.2239e-01 - val_istrans_exp_log_var: 1.5703 - val_fpd4_exp_log_var: 2.1758 - val_mob3_k11_exp_log_var: 2.1093\n",
      "Epoch 15/100\n",
      "74/74 - 2s - total_loss: -1.2519e-01 - istrans_AUC: 0.6663 - fpd4_AUC: 0.5380 - mob3_k11_AUC: 0.5361 - istrans_loss: 0.5323 - fpd4_loss: -4.4001e-01 - mob3_k11_loss: -2.1859e-01 - istrans_exp_log_var: 1.5752 - fpd4_exp_log_var: 2.2165 - mob3_k11_exp_log_var: 2.1445 - val_total_loss: -1.5565e-01 - val_istrans_AUC: 0.6628 - val_fpd4_AUC: 0.6450 - val_mob3_k11_AUC: 0.5875 - val_istrans_loss: 0.5285 - val_fpd4_loss: -4.4815e-01 - val_mob3_k11_loss: -2.3711e-01 - val_istrans_exp_log_var: 1.5780 - val_fpd4_exp_log_var: 2.2598 - val_mob3_k11_exp_log_var: 2.1816\n",
      "Epoch 16/100\n",
      "74/74 - 2s - total_loss: -1.6957e-01 - istrans_AUC: 0.6655 - fpd4_AUC: 0.5483 - mob3_k11_AUC: 0.5518 - istrans_loss: 0.5298 - fpd4_loss: -4.6500e-01 - mob3_k11_loss: -2.3542e-01 - istrans_exp_log_var: 1.5811 - fpd4_exp_log_var: 2.3018 - mob3_k11_exp_log_var: 2.2174 - val_total_loss: -1.9777e-01 - val_istrans_AUC: 0.6653 - val_fpd4_AUC: 0.5498 - val_mob3_k11_AUC: 0.6501 - val_istrans_loss: 0.5273 - val_fpd4_loss: -4.7362e-01 - val_mob3_k11_loss: -2.5261e-01 - val_istrans_exp_log_var: 1.5836 - val_fpd4_exp_log_var: 2.3449 - val_mob3_k11_exp_log_var: 2.2533\n",
      "Epoch 17/100\n",
      "74/74 - 2s - total_loss: -2.0383e-01 - istrans_AUC: 0.6639 - fpd4_AUC: 0.5577 - mob3_k11_AUC: 0.5452 - istrans_loss: 0.5320 - fpd4_loss: -4.8876e-01 - mob3_k11_loss: -2.4814e-01 - istrans_exp_log_var: 1.5860 - fpd4_exp_log_var: 2.3877 - mob3_k11_exp_log_var: 2.2895 - val_total_loss: -2.3024e-01 - val_istrans_AUC: 0.6729 - val_fpd4_AUC: 0.6780 - val_mob3_k11_AUC: 0.6621 - val_istrans_loss: 0.5267 - val_fpd4_loss: -4.9675e-01 - val_mob3_k11_loss: -2.6131e-01 - val_istrans_exp_log_var: 1.5882 - val_fpd4_exp_log_var: 2.4311 - val_mob3_k11_exp_log_var: 2.3250\n",
      "Epoch 18/100\n",
      "74/74 - 3s - total_loss: -2.4291e-01 - istrans_AUC: 0.6669 - fpd4_AUC: 0.5693 - mob3_k11_AUC: 0.5610 - istrans_loss: 0.5299 - fpd4_loss: -5.1135e-01 - mob3_k11_loss: -2.6255e-01 - istrans_exp_log_var: 1.5909 - fpd4_exp_log_var: 2.4713 - mob3_k11_exp_log_var: 2.3577 - val_total_loss: -2.7318e-01 - val_istrans_AUC: 0.6638 - val_fpd4_AUC: 0.6408 - val_mob3_k11_AUC: 0.6603 - val_istrans_loss: 0.5263 - val_fpd4_loss: -5.2000e-01 - val_mob3_k11_loss: -2.8062e-01 - val_istrans_exp_log_var: 1.5919 - val_fpd4_exp_log_var: 2.5149 - val_mob3_k11_exp_log_var: 2.3938\n",
      "Epoch 19/100\n",
      "74/74 - 3s - total_loss: -2.7645e-01 - istrans_AUC: 0.6695 - fpd4_AUC: 0.5887 - mob3_k11_AUC: 0.5939 - istrans_loss: 0.5302 - fpd4_loss: -5.3121e-01 - mob3_k11_loss: -2.7657e-01 - istrans_exp_log_var: 1.5937 - fpd4_exp_log_var: 2.5580 - mob3_k11_exp_log_var: 2.4285 - val_total_loss: -3.0743e-01 - val_istrans_AUC: 0.6713 - val_fpd4_AUC: 0.6670 - val_mob3_k11_AUC: 0.6689 - val_istrans_loss: 0.5257 - val_fpd4_loss: -5.4217e-01 - val_mob3_k11_loss: -2.9216e-01 - val_istrans_exp_log_var: 1.5949 - val_fpd4_exp_log_var: 2.6006 - val_mob3_k11_exp_log_var: 2.4631\n",
      "Epoch 20/100\n",
      "74/74 - 2s - total_loss: -3.0729e-01 - istrans_AUC: 0.6665 - fpd4_AUC: 0.5934 - mob3_k11_AUC: 0.5777 - istrans_loss: 0.5293 - fpd4_loss: -5.5097e-01 - mob3_k11_loss: -2.8682e-01 - istrans_exp_log_var: 1.5945 - fpd4_exp_log_var: 2.6424 - mob3_k11_exp_log_var: 2.4962 - val_total_loss: -3.3515e-01 - val_istrans_AUC: 0.6631 - val_fpd4_AUC: 0.6750 - val_mob3_k11_AUC: 0.6684 - val_istrans_loss: 0.5260 - val_fpd4_loss: -5.5954e-01 - val_mob3_k11_loss: -3.0283e-01 - val_istrans_exp_log_var: 1.5956 - val_fpd4_exp_log_var: 2.6854 - val_mob3_k11_exp_log_var: 2.5303\n",
      "Epoch 21/100\n",
      "74/74 - 3s - total_loss: -3.2516e-01 - istrans_AUC: 0.6671 - fpd4_AUC: 0.5962 - mob3_k11_AUC: 0.5814 - istrans_loss: 0.5309 - fpd4_loss: -5.6602e-01 - mob3_k11_loss: -2.9124e-01 - istrans_exp_log_var: 1.5972 - fpd4_exp_log_var: 2.7269 - mob3_k11_exp_log_var: 2.5626 - val_total_loss: -3.6774e-01 - val_istrans_AUC: 0.6716 - val_fpd4_AUC: 0.6818 - val_mob3_k11_AUC: 0.6816 - val_istrans_loss: 0.5254 - val_fpd4_loss: -5.7974e-01 - val_mob3_k11_loss: -3.1460e-01 - val_istrans_exp_log_var: 1.5973 - val_fpd4_exp_log_var: 2.7703 - val_mob3_k11_exp_log_var: 2.5955\n",
      "Epoch 22/100\n",
      "74/74 - 2s - total_loss: -3.6216e-01 - istrans_AUC: 0.6691 - fpd4_AUC: 0.6336 - mob3_k11_AUC: 0.6025 - istrans_loss: 0.5284 - fpd4_loss: -5.8666e-01 - mob3_k11_loss: -3.0516e-01 - istrans_exp_log_var: 1.5977 - fpd4_exp_log_var: 2.8117 - mob3_k11_exp_log_var: 2.6274 - val_total_loss: -3.9489e-01 - val_istrans_AUC: 0.6658 - val_fpd4_AUC: 0.6914 - val_mob3_k11_AUC: 0.6937 - val_istrans_loss: 0.5252 - val_fpd4_loss: -5.9755e-01 - val_mob3_k11_loss: -3.2383e-01 - val_istrans_exp_log_var: 1.5982 - val_fpd4_exp_log_var: 2.8548 - val_mob3_k11_exp_log_var: 2.6600\n",
      "Epoch 23/100\n",
      "74/74 - 2s - total_loss: -3.8705e-01 - istrans_AUC: 0.6694 - fpd4_AUC: 0.6280 - mob3_k11_AUC: 0.6149 - istrans_loss: 0.5292 - fpd4_loss: -6.0485e-01 - mob3_k11_loss: -3.1271e-01 - istrans_exp_log_var: 1.5987 - fpd4_exp_log_var: 2.8970 - mob3_k11_exp_log_var: 2.6912 - val_total_loss: -4.2190e-01 - val_istrans_AUC: 0.6677 - val_fpd4_AUC: 0.7087 - val_mob3_k11_AUC: 0.6906 - val_istrans_loss: 0.5250 - val_fpd4_loss: -6.1452e-01 - val_mob3_k11_loss: -3.3369e-01 - val_istrans_exp_log_var: 1.5994 - val_fpd4_exp_log_var: 2.9398 - val_mob3_k11_exp_log_var: 2.7234\n",
      "Epoch 24/100\n",
      "74/74 - 2s - total_loss: -4.1096e-01 - istrans_AUC: 0.6694 - fpd4_AUC: 0.6655 - mob3_k11_AUC: 0.6325 - istrans_loss: 0.5284 - fpd4_loss: -6.1949e-01 - mob3_k11_loss: -3.2123e-01 - istrans_exp_log_var: 1.6009 - fpd4_exp_log_var: 2.9811 - mob3_k11_exp_log_var: 2.7545 - val_total_loss: -4.4451e-01 - val_istrans_AUC: 0.6681 - val_fpd4_AUC: 0.7003 - val_mob3_k11_AUC: 0.6960 - val_istrans_loss: 0.5249 - val_fpd4_loss: -6.3166e-01 - val_mob3_k11_loss: -3.3908e-01 - val_istrans_exp_log_var: 1.6009 - val_fpd4_exp_log_var: 3.0240 - val_mob3_k11_exp_log_var: 2.7858\n",
      "Epoch 25/100\n",
      "74/74 - 2s - total_loss: -4.3624e-01 - istrans_AUC: 0.6634 - fpd4_AUC: 0.6305 - mob3_k11_AUC: 0.6048 - istrans_loss: 0.5303 - fpd4_loss: -6.3756e-01 - mob3_k11_loss: -3.3038e-01 - istrans_exp_log_var: 1.6008 - fpd4_exp_log_var: 3.0662 - mob3_k11_exp_log_var: 2.8151 - val_total_loss: -4.6991e-01 - val_istrans_AUC: 0.6656 - val_fpd4_AUC: 0.7043 - val_mob3_k11_AUC: 0.6977 - val_istrans_loss: 0.5252 - val_fpd4_loss: -6.4572e-01 - val_mob3_k11_loss: -3.5075e-01 - val_istrans_exp_log_var: 1.6007 - val_fpd4_exp_log_var: 3.1077 - val_mob3_k11_exp_log_var: 2.8442\n",
      "Epoch 26/100\n",
      "74/74 - 2s - total_loss: -4.6385e-01 - istrans_AUC: 0.6662 - fpd4_AUC: 0.6752 - mob3_k11_AUC: 0.6359 - istrans_loss: 0.5283 - fpd4_loss: -6.5437e-01 - mob3_k11_loss: -3.3915e-01 - istrans_exp_log_var: 1.6005 - fpd4_exp_log_var: 3.1502 - mob3_k11_exp_log_var: 2.8743 - val_total_loss: -4.9548e-01 - val_istrans_AUC: 0.6673 - val_fpd4_AUC: 0.7103 - val_mob3_k11_AUC: 0.6974 - val_istrans_loss: 0.5247 - val_fpd4_loss: -6.6167e-01 - val_mob3_k11_loss: -3.5994e-01 - val_istrans_exp_log_var: 1.6007 - val_fpd4_exp_log_var: 3.1924 - val_mob3_k11_exp_log_var: 2.9051\n",
      "Epoch 27/100\n",
      "74/74 - 2s - total_loss: -4.8353e-01 - istrans_AUC: 0.6714 - fpd4_AUC: 0.6879 - mob3_k11_AUC: 0.6518 - istrans_loss: 0.5283 - fpd4_loss: -6.6745e-01 - mob3_k11_loss: -3.4588e-01 - istrans_exp_log_var: 1.6013 - fpd4_exp_log_var: 3.2326 - mob3_k11_exp_log_var: 2.9326 - val_total_loss: -5.2015e-01 - val_istrans_AUC: 0.6678 - val_fpd4_AUC: 0.7097 - val_mob3_k11_AUC: 0.6995 - val_istrans_loss: 0.5252 - val_fpd4_loss: -6.7827e-01 - val_mob3_k11_loss: -3.6859e-01 - val_istrans_exp_log_var: 1.6014 - val_fpd4_exp_log_var: 3.2758 - val_mob3_k11_exp_log_var: 2.9631\n",
      "Epoch 28/100\n",
      "74/74 - 2s - total_loss: -5.1175e-01 - istrans_AUC: 0.6682 - fpd4_AUC: 0.7026 - mob3_k11_AUC: 0.6644 - istrans_loss: 0.5301 - fpd4_loss: -6.8545e-01 - mob3_k11_loss: -3.5797e-01 - istrans_exp_log_var: 1.6026 - fpd4_exp_log_var: 3.3185 - mob3_k11_exp_log_var: 2.9914 - val_total_loss: -5.4388e-01 - val_istrans_AUC: 0.6682 - val_fpd4_AUC: 0.7121 - val_mob3_k11_AUC: 0.7055 - val_istrans_loss: 0.5246 - val_fpd4_loss: -6.9343e-01 - val_mob3_k11_loss: -3.7662e-01 - val_istrans_exp_log_var: 1.6016 - val_fpd4_exp_log_var: 3.3605 - val_mob3_k11_exp_log_var: 3.0203\n",
      "Epoch 29/100\n",
      "74/74 - 2s - total_loss: -5.3359e-01 - istrans_AUC: 0.6672 - fpd4_AUC: 0.6921 - mob3_k11_AUC: 0.6579 - istrans_loss: 0.5292 - fpd4_loss: -6.9936e-01 - mob3_k11_loss: -3.6509e-01 - istrans_exp_log_var: 1.6022 - fpd4_exp_log_var: 3.4016 - mob3_k11_exp_log_var: 3.0478 - val_total_loss: -5.6436e-01 - val_istrans_AUC: 0.6680 - val_fpd4_AUC: 0.7159 - val_mob3_k11_AUC: 0.6992 - val_istrans_loss: 0.5246 - val_fpd4_loss: -7.0657e-01 - val_mob3_k11_loss: -3.8405e-01 - val_istrans_exp_log_var: 1.6005 - val_fpd4_exp_log_var: 3.4448 - val_mob3_k11_exp_log_var: 3.0761\n",
      "Epoch 30/100\n",
      "74/74 - 2s - total_loss: -5.5934e-01 - istrans_AUC: 0.6694 - fpd4_AUC: 0.7187 - mob3_k11_AUC: 0.6691 - istrans_loss: 0.5285 - fpd4_loss: -7.1530e-01 - mob3_k11_loss: -3.7426e-01 - istrans_exp_log_var: 1.6012 - fpd4_exp_log_var: 3.4868 - mob3_k11_exp_log_var: 3.1032 - val_total_loss: -5.8900e-01 - val_istrans_AUC: 0.6685 - val_fpd4_AUC: 0.7211 - val_mob3_k11_AUC: 0.7056 - val_istrans_loss: 0.5246 - val_fpd4_loss: -7.2230e-01 - val_mob3_k11_loss: -3.9300e-01 - val_istrans_exp_log_var: 1.6012 - val_fpd4_exp_log_var: 3.5296 - val_mob3_k11_exp_log_var: 3.1312\n",
      "Epoch 31/100\n",
      "74/74 - 2s - total_loss: -5.7942e-01 - istrans_AUC: 0.6674 - fpd4_AUC: 0.7006 - mob3_k11_AUC: 0.6603 - istrans_loss: 0.5315 - fpd4_loss: -7.3234e-01 - mob3_k11_loss: -3.8032e-01 - istrans_exp_log_var: 1.6007 - fpd4_exp_log_var: 3.5702 - mob3_k11_exp_log_var: 3.1574 - val_total_loss: -6.0880e-01 - val_istrans_AUC: 0.6684 - val_fpd4_AUC: 0.7173 - val_mob3_k11_AUC: 0.7039 - val_istrans_loss: 0.5248 - val_fpd4_loss: -7.3487e-01 - val_mob3_k11_loss: -4.0055e-01 - val_istrans_exp_log_var: 1.6001 - val_fpd4_exp_log_var: 3.6136 - val_mob3_k11_exp_log_var: 3.1858\n",
      "Epoch 32/100\n",
      "74/74 - 2s - total_loss: -5.9170e-01 - istrans_AUC: 0.6679 - fpd4_AUC: 0.6895 - mob3_k11_AUC: 0.6631 - istrans_loss: 0.5289 - fpd4_loss: -7.3831e-01 - mob3_k11_loss: -3.8407e-01 - istrans_exp_log_var: 1.6012 - fpd4_exp_log_var: 3.6556 - mob3_k11_exp_log_var: 3.2112 - val_total_loss: -6.2825e-01 - val_istrans_AUC: 0.6675 - val_fpd4_AUC: 0.7242 - val_mob3_k11_AUC: 0.7074 - val_istrans_loss: 0.5249 - val_fpd4_loss: -7.4749e-01 - val_mob3_k11_loss: -4.0753e-01 - val_istrans_exp_log_var: 1.6003 - val_fpd4_exp_log_var: 3.6978 - val_mob3_k11_exp_log_var: 3.2378\n",
      "Epoch 33/100\n",
      "74/74 - 2s - total_loss: -6.0897e-01 - istrans_AUC: 0.6679 - fpd4_AUC: 0.7118 - mob3_k11_AUC: 0.6745 - istrans_loss: 0.5302 - fpd4_loss: -7.5137e-01 - mob3_k11_loss: -3.8960e-01 - istrans_exp_log_var: 1.6004 - fpd4_exp_log_var: 3.7374 - mob3_k11_exp_log_var: 3.2632 - val_total_loss: -6.5219e-01 - val_istrans_AUC: 0.6675 - val_fpd4_AUC: 0.7205 - val_mob3_k11_AUC: 0.7073 - val_istrans_loss: 0.5246 - val_fpd4_loss: -7.6281e-01 - val_mob3_k11_loss: -4.1585e-01 - val_istrans_exp_log_var: 1.5994 - val_fpd4_exp_log_var: 3.7803 - val_mob3_k11_exp_log_var: 3.2887\n",
      "Epoch 34/100\n",
      "74/74 - 2s - total_loss: -6.3733e-01 - istrans_AUC: 0.6669 - fpd4_AUC: 0.7280 - mob3_k11_AUC: 0.6866 - istrans_loss: 0.5286 - fpd4_loss: -7.6791e-01 - mob3_k11_loss: -3.9989e-01 - istrans_exp_log_var: 1.5988 - fpd4_exp_log_var: 3.8193 - mob3_k11_exp_log_var: 3.3122 - val_total_loss: -6.4535e-01 - val_istrans_AUC: 0.6673 - val_fpd4_AUC: 0.7231 - val_mob3_k11_AUC: 0.7058 - val_istrans_loss: 0.5255 - val_fpd4_loss: -7.5963e-01 - val_mob3_k11_loss: -4.1313e-01 - val_istrans_exp_log_var: 1.5998 - val_fpd4_exp_log_var: 3.8623 - val_mob3_k11_exp_log_var: 3.3382\n",
      "Epoch 35/100\n",
      "74/74 - 2s - total_loss: -6.4991e-01 - istrans_AUC: 0.6667 - fpd4_AUC: 0.7283 - mob3_k11_AUC: 0.6873 - istrans_loss: 0.5300 - fpd4_loss: -7.7787e-01 - mob3_k11_loss: -4.0400e-01 - istrans_exp_log_var: 1.6015 - fpd4_exp_log_var: 3.9036 - mob3_k11_exp_log_var: 3.3636 - val_total_loss: -6.8481e-01 - val_istrans_AUC: 0.6675 - val_fpd4_AUC: 0.7246 - val_mob3_k11_AUC: 0.7084 - val_istrans_loss: 0.5246 - val_fpd4_loss: -7.8352e-01 - val_mob3_k11_loss: -4.2792e-01 - val_istrans_exp_log_var: 1.6010 - val_fpd4_exp_log_var: 3.9466 - val_mob3_k11_exp_log_var: 3.3883\n",
      "Epoch 36/100\n",
      "74/74 - 2s - total_loss: -6.6670e-01 - istrans_AUC: 0.6679 - fpd4_AUC: 0.7257 - mob3_k11_AUC: 0.6918 - istrans_loss: 0.5280 - fpd4_loss: -7.8646e-01 - mob3_k11_loss: -4.1022e-01 - istrans_exp_log_var: 1.6014 - fpd4_exp_log_var: 3.9865 - mob3_k11_exp_log_var: 3.4090 - val_total_loss: -6.7137e-01 - val_istrans_AUC: 0.6677 - val_fpd4_AUC: 0.7167 - val_mob3_k11_AUC: 0.7076 - val_istrans_loss: 0.5247 - val_fpd4_loss: -7.7845e-01 - val_mob3_k11_loss: -4.1962e-01 - val_istrans_exp_log_var: 1.6011 - val_fpd4_exp_log_var: 4.0301 - val_mob3_k11_exp_log_var: 3.4335\n",
      "Epoch 37/100\n",
      "74/74 - 2s - total_loss: -6.8450e-01 - istrans_AUC: 0.6671 - fpd4_AUC: 0.7224 - mob3_k11_AUC: 0.6882 - istrans_loss: 0.5288 - fpd4_loss: -7.9903e-01 - mob3_k11_loss: -4.1628e-01 - istrans_exp_log_var: 1.6012 - fpd4_exp_log_var: 4.0681 - mob3_k11_exp_log_var: 3.4550 - val_total_loss: -7.0166e-01 - val_istrans_AUC: 0.6680 - val_fpd4_AUC: 0.7234 - val_mob3_k11_AUC: 0.7084 - val_istrans_loss: 0.5248 - val_fpd4_loss: -7.9757e-01 - val_mob3_k11_loss: -4.3091e-01 - val_istrans_exp_log_var: 1.6011 - val_fpd4_exp_log_var: 4.1100 - val_mob3_k11_exp_log_var: 3.4800\n",
      "Epoch 38/100\n",
      "74/74 - 2s - total_loss: -7.0012e-01 - istrans_AUC: 0.6682 - fpd4_AUC: 0.7366 - mob3_k11_AUC: 0.6882 - istrans_loss: 0.5280 - fpd4_loss: -8.1157e-01 - mob3_k11_loss: -4.1863e-01 - istrans_exp_log_var: 1.6022 - fpd4_exp_log_var: 4.1523 - mob3_k11_exp_log_var: 3.5049 - val_total_loss: -7.1725e-01 - val_istrans_AUC: 0.6667 - val_fpd4_AUC: 0.7227 - val_mob3_k11_AUC: 0.7090 - val_istrans_loss: 0.5246 - val_fpd4_loss: -8.0715e-01 - val_mob3_k11_loss: -4.3682e-01 - val_istrans_exp_log_var: 1.6028 - val_fpd4_exp_log_var: 4.1945 - val_mob3_k11_exp_log_var: 3.5274\n",
      "Epoch 39/100\n",
      "74/74 - 2s - total_loss: -7.0192e-01 - istrans_AUC: 0.6670 - fpd4_AUC: 0.7235 - mob3_k11_AUC: 0.6874 - istrans_loss: 0.5284 - fpd4_loss: -8.1511e-01 - mob3_k11_loss: -4.1727e-01 - istrans_exp_log_var: 1.6027 - fpd4_exp_log_var: 4.2352 - mob3_k11_exp_log_var: 3.5485 - val_total_loss: -7.0359e-01 - val_istrans_AUC: 0.6675 - val_fpd4_AUC: 0.7252 - val_mob3_k11_AUC: 0.7095 - val_istrans_loss: 0.5250 - val_fpd4_loss: -8.0288e-01 - val_mob3_k11_loss: -4.2779e-01 - val_istrans_exp_log_var: 1.6024 - val_fpd4_exp_log_var: 4.2756 - val_mob3_k11_exp_log_var: 3.5705\n",
      "Epoch 40/100\n",
      "74/74 - 2s - total_loss: -7.2185e-01 - istrans_AUC: 0.6657 - fpd4_AUC: 0.7380 - mob3_k11_AUC: 0.6969 - istrans_loss: 0.5308 - fpd4_loss: -8.2905e-01 - mob3_k11_loss: -4.2566e-01 - istrans_exp_log_var: 1.6017 - fpd4_exp_log_var: 4.3129 - mob3_k11_exp_log_var: 3.5893 - val_total_loss: -7.4487e-01 - val_istrans_AUC: 0.6677 - val_fpd4_AUC: 0.7224 - val_mob3_k11_AUC: 0.7107 - val_istrans_loss: 0.5248 - val_fpd4_loss: -8.2572e-01 - val_mob3_k11_loss: -4.4603e-01 - val_istrans_exp_log_var: 1.6010 - val_fpd4_exp_log_var: 4.3535 - val_mob3_k11_exp_log_var: 3.6097\n",
      "Epoch 41/100\n",
      "74/74 - 2s - total_loss: -7.3244e-01 - istrans_AUC: 0.6685 - fpd4_AUC: 0.7359 - mob3_k11_AUC: 0.6950 - istrans_loss: 0.5279 - fpd4_loss: -8.3230e-01 - mob3_k11_loss: -4.3020e-01 - istrans_exp_log_var: 1.6013 - fpd4_exp_log_var: 4.3929 - mob3_k11_exp_log_var: 3.6315 - val_total_loss: -7.5517e-01 - val_istrans_AUC: 0.6667 - val_fpd4_AUC: 0.7247 - val_mob3_k11_AUC: 0.7099 - val_istrans_loss: 0.5246 - val_fpd4_loss: -8.3407e-01 - val_mob3_k11_loss: -4.4783e-01 - val_istrans_exp_log_var: 1.6010 - val_fpd4_exp_log_var: 4.4326 - val_mob3_k11_exp_log_var: 3.6496\n",
      "Epoch 42/100\n",
      "74/74 - 2s - total_loss: -7.2668e-01 - istrans_AUC: 0.6686 - fpd4_AUC: 0.7242 - mob3_k11_AUC: 0.6948 - istrans_loss: 0.5287 - fpd4_loss: -8.3237e-01 - mob3_k11_loss: -4.2515e-01 - istrans_exp_log_var: 1.6024 - fpd4_exp_log_var: 4.4728 - mob3_k11_exp_log_var: 3.6712 - val_total_loss: -7.6497e-01 - val_istrans_AUC: 0.6672 - val_fpd4_AUC: 0.7242 - val_mob3_k11_AUC: 0.7125 - val_istrans_loss: 0.5246 - val_fpd4_loss: -8.4000e-01 - val_mob3_k11_loss: -4.5169e-01 - val_istrans_exp_log_var: 1.6021 - val_fpd4_exp_log_var: 4.5109 - val_mob3_k11_exp_log_var: 3.6885\n",
      "Epoch 43/100\n",
      "74/74 - 2s - total_loss: -7.4520e-01 - istrans_AUC: 0.6670 - fpd4_AUC: 0.7307 - mob3_k11_AUC: 0.6992 - istrans_loss: 0.5296 - fpd4_loss: -8.4449e-01 - mob3_k11_loss: -4.3243e-01 - istrans_exp_log_var: 1.6003 - fpd4_exp_log_var: 4.5466 - mob3_k11_exp_log_var: 3.7037 - val_total_loss: -7.7317e-01 - val_istrans_AUC: 0.6671 - val_fpd4_AUC: 0.7237 - val_mob3_k11_AUC: 0.7107 - val_istrans_loss: 0.5246 - val_fpd4_loss: -8.4619e-01 - val_mob3_k11_loss: -4.5370e-01 - val_istrans_exp_log_var: 1.6016 - val_fpd4_exp_log_var: 4.5851 - val_mob3_k11_exp_log_var: 3.7228\n",
      "Epoch 44/100\n",
      "74/74 - 2s - total_loss: -7.4676e-01 - istrans_AUC: 0.6664 - fpd4_AUC: 0.7341 - mob3_k11_AUC: 0.6896 - istrans_loss: 0.5295 - fpd4_loss: -8.4949e-01 - mob3_k11_loss: -4.2896e-01 - istrans_exp_log_var: 1.6013 - fpd4_exp_log_var: 4.6231 - mob3_k11_exp_log_var: 3.7388 - val_total_loss: -7.7997e-01 - val_istrans_AUC: 0.6666 - val_fpd4_AUC: 0.7261 - val_mob3_k11_AUC: 0.7116 - val_istrans_loss: 0.5246 - val_fpd4_loss: -8.5147e-01 - val_mob3_k11_loss: -4.5525e-01 - val_istrans_exp_log_var: 1.6008 - val_fpd4_exp_log_var: 4.6601 - val_mob3_k11_exp_log_var: 3.7552\n",
      "Epoch 45/100\n",
      "74/74 - 2s - total_loss: -7.6868e-01 - istrans_AUC: 0.6656 - fpd4_AUC: 0.7415 - mob3_k11_AUC: 0.7027 - istrans_loss: 0.5298 - fpd4_loss: -8.6026e-01 - mob3_k11_loss: -4.4039e-01 - istrans_exp_log_var: 1.6000 - fpd4_exp_log_var: 4.6982 - mob3_k11_exp_log_var: 3.7677 - val_total_loss: -7.4880e-01 - val_istrans_AUC: 0.6667 - val_fpd4_AUC: 0.7253 - val_mob3_k11_AUC: 0.7117 - val_istrans_loss: 0.5246 - val_fpd4_loss: -8.3867e-01 - val_mob3_k11_loss: -4.3695e-01 - val_istrans_exp_log_var: 1.6012 - val_fpd4_exp_log_var: 4.7340 - val_mob3_k11_exp_log_var: 3.7842\n",
      "Epoch 46/100\n",
      "74/74 - 2s - total_loss: -7.5269e-01 - istrans_AUC: 0.6653 - fpd4_AUC: 0.7342 - mob3_k11_AUC: 0.6919 - istrans_loss: 0.5308 - fpd4_loss: -8.5712e-01 - mob3_k11_loss: -4.2850e-01 - istrans_exp_log_var: 1.6018 - fpd4_exp_log_var: 4.7710 - mob3_k11_exp_log_var: 3.8017 - val_total_loss: -7.7882e-01 - val_istrans_AUC: 0.6663 - val_fpd4_AUC: 0.7264 - val_mob3_k11_AUC: 0.7125 - val_istrans_loss: 0.5247 - val_fpd4_loss: -8.5404e-01 - val_mob3_k11_loss: -4.5163e-01 - val_istrans_exp_log_var: 1.6012 - val_fpd4_exp_log_var: 4.8091 - val_mob3_k11_exp_log_var: 3.8189\n",
      "Epoch 47/100\n",
      "74/74 - 2s - total_loss: -7.8796e-01 - istrans_AUC: 0.6677 - fpd4_AUC: 0.7441 - mob3_k11_AUC: 0.7020 - istrans_loss: 0.5278 - fpd4_loss: -8.7596e-01 - mob3_k11_loss: -4.4195e-01 - istrans_exp_log_var: 1.6005 - fpd4_exp_log_var: 4.8453 - mob3_k11_exp_log_var: 3.8320 - val_total_loss: -7.8196e-01 - val_istrans_AUC: 0.6664 - val_fpd4_AUC: 0.7255 - val_mob3_k11_AUC: 0.7137 - val_istrans_loss: 0.5245 - val_fpd4_loss: -8.5711e-01 - val_mob3_k11_loss: -4.5152e-01 - val_istrans_exp_log_var: 1.6003 - val_fpd4_exp_log_var: 4.8809 - val_mob3_k11_exp_log_var: 3.8461\n",
      "Epoch 48/100\n",
      "74/74 - 2s - total_loss: -7.8520e-01 - istrans_AUC: 0.6662 - fpd4_AUC: 0.7459 - mob3_k11_AUC: 0.7009 - istrans_loss: 0.5290 - fpd4_loss: -8.7493e-01 - mob3_k11_loss: -4.4150e-01 - istrans_exp_log_var: 1.6017 - fpd4_exp_log_var: 4.9177 - mob3_k11_exp_log_var: 3.8625 - val_total_loss: -7.8604e-01 - val_istrans_AUC: 0.6659 - val_fpd4_AUC: 0.7239 - val_mob3_k11_AUC: 0.7147 - val_istrans_loss: 0.5248 - val_fpd4_loss: -8.5986e-01 - val_mob3_k11_loss: -4.5319e-01 - val_istrans_exp_log_var: 1.6021 - val_fpd4_exp_log_var: 4.9528 - val_mob3_k11_exp_log_var: 3.8754\n",
      "Epoch 49/100\n",
      "Epoch 00049: early stopping. The best at Epoch 00039\n",
      "74/74 - 2s - total_loss: -7.8445e-01 - istrans_AUC: 0.6657 - fpd4_AUC: 0.7421 - mob3_k11_AUC: 0.7000 - istrans_loss: 0.5290 - fpd4_loss: -8.7743e-01 - mob3_k11_loss: -4.3817e-01 - istrans_exp_log_var: 1.6020 - fpd4_exp_log_var: 4.9884 - mob3_k11_exp_log_var: 3.8887 - val_total_loss: -8.0004e-01 - val_istrans_AUC: 0.6666 - val_fpd4_AUC: 0.7274 - val_mob3_k11_AUC: 0.7135 - val_istrans_loss: 0.5245 - val_fpd4_loss: -8.6925e-01 - val_mob3_k11_loss: -4.5750e-01 - val_istrans_exp_log_var: 1.6019 - val_fpd4_exp_log_var: 5.0235 - val_mob3_k11_exp_log_var: 3.9028\n",
      "\n",
      "\n",
      "Restoring model weights from the end of the best epoch: 00039\n",
      "WARNING:tensorflow:Found duplicated `Variable`s in Model's `weights`. This is usually caused by `Variable`s being shared by Layers in the Model. These `Variable`s will be treated as separate `Variable`s when the Model is restored. To avoid this, please save with `save_format=\"tf\"`.\n"
     ]
    },
    {
     "name": "stderr",
     "output_type": "stream",
     "text": [
      "D:\\ProgramData\\Anaconda3\\envs\\python3.6_tf2\\lib\\site-packages\\tensorflow\\python\\framework\\indexed_slices.py:433: UserWarning: Converting sparse IndexedSlices to a dense Tensor of unknown shape. This may consume a large amount of memory.\n",
      "  \"Converting sparse IndexedSlices to a dense Tensor of unknown shape. \"\n"
     ]
    }
   ],
   "source": [
    "# train\n",
    "model = MMOE_BIAS(dnn_feature_columns,\n",
    "                  tasks,\n",
    "                  bias_feature_columns_dict,\n",
    "                  bias_dropout_dict,\n",
    "                  num_experts=4,\n",
    "                  expert_dim=8,\n",
    "                  bottom_shared_units=(96, 96),\n",
    "                  bottom_shared_use_bn=False,\n",
    "                  l2_reg_embedding=2.7618e-05,\n",
    "                  l2_reg_dnn=1.1261e-05\n",
    "                  )\n",
    "# plot_model(aa, to_file=joint_symbol.join([checkpoint_dir, 'model_viz.png']), show_shapes=True,\n",
    "#            show_layer_names=True)\n",
    "if gradnorm:\n",
    "    last_shared_weights = [weight for weight in model.get_layer('mmoe_layer').trainable_weights\n",
    "                           if weight.name.find('expert') >= 0]\n",
    "    gradnorm_config = {'alpha': 0.3, 'last_shared_weights': last_shared_weights}\n",
    "else:\n",
    "    gradnorm_config = None\n",
    "# last_lr = 0.003\n",
    "last_lr = 0.001\n",
    "optimizers = keras.optimizers.Adam(learning_rate=ModifiedExponentialDecay(last_lr))\n",
    "# multitask_modified = keras.multitask_modified.Adam(learning_rate=last_lr)\n",
    "model.compile(optimizer=optimizers,\n",
    "              loss=loss_fns,\n",
    "              metrics=metrics_logger,\n",
    "              loss_weights=loss_weights,\n",
    "              uncertainly=uncertainty,\n",
    "              gradnorm_config=gradnorm_config)\n",
    "try:\n",
    "    checkpoints = [joint_symbol.join([checkpoint_dir, name]) for name in os.listdir(checkpoint_dir)]\n",
    "    latest_checkpoint = max(checkpoints).split('.index')[0]\n",
    "    model.train_on_batch(model_batch_input,\n",
    "                         {task_name: train[[task_name]].iloc[:1] for task_name in tasks.keys()})\n",
    "    model.load_weights(latest_checkpoint)\n",
    "    _, last_epoch, last_lr = latest_checkpoint.split('-')\n",
    "    print('Restoring from ', latest_checkpoint)\n",
    "    last_epoch = int(last_epoch)\n",
    "    last_lr = float(last_lr)\n",
    "except:\n",
    "    print('Creating a new model')\n",
    "    last_epoch = 0\n",
    "print('last epoch', last_epoch)\n",
    "print('last lr', last_lr)\n",
    "history = model.fit(model_input,\n",
    "                    {task_name: train[[task_name]] for task_name in tasks.keys()},\n",
    "                    sample_weight={task_name: train[task_name+'_weight'] for task_name in tasks.keys()},\n",
    "                    batch_size=256,\n",
    "                    epochs=100,\n",
    "                    initial_epoch=last_epoch,\n",
    "                    verbose=2,\n",
    "                    validation_data=(test_model_input,\n",
    "                                     {task_name: test[[task_name]] for task_name in tasks.keys()},\n",
    "                                     {task_name: test[task_name+'_weight'] for task_name in tasks.keys()}),\n",
    "                    callbacks=[\n",
    "                        # ReduceLROnPlateau(monitor='val_fpd4_AUC', factor=0.7, mode='max',\n",
    "                        #                   patience=2, verbose=1, min_delta=0.01),\n",
    "                              EarlyStopping('val_fpd4_AUC',\n",
    "                                              patience=10,\n",
    "                                              savepath=checkpoint_dir,\n",
    "                                              coef_of_balance=0.4,\n",
    "                                              direction='maximize'),\n",
    "                              TensorBoard(log_dir=tensorboard_dir),\n",
    "                              Recorder(log_dir=tensorboard_dir,\n",
    "                                         data=callback_data)\n",
    "\n",
    "                              ]\n",
    "                    )\n"
   ],
   "metadata": {
    "collapsed": false,
    "pycharm": {
     "name": "#%%\n"
    }
   }
  },
  {
   "cell_type": "code",
   "execution_count": 30,
   "outputs": [
    {
     "name": "stdout",
     "output_type": "stream",
     "text": [
      "loading  preloan_istrans_overdue\\ckt\\uncertainty_bias_fpd4_mask_mob3_k11_mask7\\best_model_epoch39_val_fpd4_AUC0.7252.h5\n"
     ]
    }
   ],
   "source": [
    "# load the best model\n",
    "best_metric = -1\n",
    "best_model = None\n",
    "for i in os.listdir(checkpoint_dir):\n",
    "    if i.find('best_model') >= 0:\n",
    "        metric = float(re.match('.*AUC(.*).h5', i)[1])\n",
    "        if metric > best_metric:\n",
    "            best_metric = metric\n",
    "            best_model = i\n",
    "print('loading ', joint_symbol.join([checkpoint_dir, best_model]))\n",
    "model = load_model(joint_symbol.join([checkpoint_dir, best_model]), compile=False, custom_objects=custom_objects)"
   ],
   "metadata": {
    "collapsed": false,
    "pycharm": {
     "name": "#%%\n"
    }
   }
  },
  {
   "cell_type": "code",
   "execution_count": 38,
   "outputs": [
    {
     "data": {
      "text/plain": "<Figure size 576x1080 with 3 Axes>",
      "image/png": "[encoded data removed]"
     },
     "metadata": {},
     "output_type": "display_data"
    }
   ],
   "source": [
    "# explore the effect of pre_loan_flag\n",
    "weight_dict = {}\n",
    "for round_num, ft in enumerate(col_x):\n",
    "    weight_dict[ft] = np.array([list(range(0, n_bins+1))]*test.shape[0])\n",
    "    bin_ary = np.arange(1/(2*n_bins), 1+1/(2*n_bins), 1/n_bins)\n",
    "    cent_hat = np.abs(np.expand_dims(np.expand_dims(test[ft], -1), -1) - np.expand_dims(bin_ary, -1))\n",
    "    weight = 1.0 / (cent_hat + 1e-7)\n",
    "    weight = weight / np.sum(weight, axis=1, keepdims=True)\n",
    "    weight = np.concatenate([np.zeros((weight.shape[0], 1, 1)), weight], axis=1)\n",
    "    nan_indicator = test[ft].isnull().values\n",
    "    weight[nan_indicator, 1:, :] = 0.\n",
    "    weight[nan_indicator, 0, :] = 1.\n",
    "    weight_dict[ft+'_weight'] = weight\n",
    "    assert(weight.shape[1]==21)\n",
    "test_model_input = weight_dict\n",
    "for ft in bias_feature_names:\n",
    "    test_model_input[ft] = test[ft].values\n",
    "    \n",
    "for task_name in ['istrans']:\n",
    "    fig = plt.figure(figsize=(8, 15))\n",
    "    fig.suptitle(run_name + '_' + task_name)\n",
    "    predictions = model.predict(test_model_input)\n",
    "    pred = predictions[task_name][:, 0]\n",
    "    target = test[task_name].values\n",
    "    auc_score = roc_auc_score(target, pred,\n",
    "                              # sample_weight=set_data[task_name + '_mask'].values\n",
    "                              )\n",
    "    fpr, tpr, thresholds = roc_curve(target, pred,\n",
    "                                     # sample_weight=set_data[task_name + '_mask'].values\n",
    "                                     )\n",
    "    ks = np.max(np.abs(tpr - fpr))\n",
    "    ks_index = np.argmax(tpr - fpr)\n",
    "    ks_thresh = thresholds[ks_index]\n",
    "    df = pd.DataFrame({'pred': pred, 'target': target})\n",
    "    ax = fig.add_subplot(3, 1, 1)\n",
    "    _ = calc_lift(df, 'pred', 'target', ax=ax, groupnum=10,\n",
    "                  title_name='all_'+' {}: {} auc {:4f} ks {:4f}@{:4f}'.format(task_name, 'val', auc_score, ks, ks_thresh))\n",
    "\n",
    "    weight = test[task_name + '_mask'].values\n",
    "    auc_score = roc_auc_score(target, pred,\n",
    "                              sample_weight=weight\n",
    "                              )\n",
    "    fpr, tpr, thresholds = roc_curve(target, pred,\n",
    "                                     sample_weight=weight\n",
    "                                     )\n",
    "    ks = np.max(np.abs(tpr - fpr))\n",
    "    ks_index = np.argmax(tpr - fpr)\n",
    "    ks_thresh = thresholds[ks_index]\n",
    "    ax = fig.add_subplot(3, 1, 2)\n",
    "    df = pd.DataFrame({'pred': pred[weight != 0], 'target': target[weight != 0]})\n",
    "    _ = calc_lift(df, 'pred', 'target', ax=ax, groupnum=10,\n",
    "                  title_name='not_preloan_'+' {}: {} auc {:4f} ks {:4f}@{:4f}'.format(task_name, 'val', auc_score, ks, ks_thresh))\n",
    "\n",
    "    test_model_input['pre_loan_flag'] = np.array([0]*test_model_input['pre_loan_flag'].shape[0])\n",
    "    predictions = model.predict(test_model_input)\n",
    "    pred = predictions[task_name][:, 0]\n",
    "    target = test[task_name].values\n",
    "    auc_score = roc_auc_score(target, pred,\n",
    "                              # sample_weight=set_data[task_name + '_mask'].values\n",
    "                              )\n",
    "    fpr, tpr, thresholds = roc_curve(target, pred,\n",
    "                                     # sample_weight=set_data[task_name + '_mask'].values\n",
    "                                     )\n",
    "    ks = np.max(np.abs(tpr - fpr))\n",
    "    ks_index = np.argmax(tpr - fpr)\n",
    "    ks_thresh = thresholds[ks_index]\n",
    "    df = pd.DataFrame({'pred': pred, 'target': target})\n",
    "    ax = fig.add_subplot(3, 1, 3)\n",
    "    _ = calc_lift(df, 'pred', 'target', ax=ax, groupnum=10,\n",
    "                  title_name='dictate_all_0_'+' {}: {} auc {:4f} ks {:4f}@{:4f}'.format(task_name, 'val', auc_score, ks, ks_thresh))\n",
    "    plt.show()"
   ],
   "metadata": {
    "collapsed": false,
    "pycharm": {
     "name": "#%%\n"
    }
   }
  }
 ],
 "metadata": {
  "kernelspec": {
   "display_name": "Python 3",
   "language": "python",
   "name": "python3"
  },
  "language_info": {
   "codemirror_mode": {
    "name": "ipython",
    "version": 2
   },
   "file_extension": ".py",
   "mimetype": "text/x-python",
   "name": "python",
   "nbconvert_exporter": "python",
   "pygments_lexer": "ipython2",
   "version": "2.7.6"
  }
 },
 "nbformat": 4,
 "nbformat_minor": 0
}